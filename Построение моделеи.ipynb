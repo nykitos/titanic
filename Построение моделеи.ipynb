{
 "cells": [
  {
   "cell_type": "markdown",
   "id": "fe5b1835",
   "metadata": {},
   "source": [
    "# Загрузка и обработка данных."
   ]
  },
  {
   "cell_type": "code",
   "execution_count": 1,
   "id": "f339c59a",
   "metadata": {},
   "outputs": [],
   "source": [
    "import pandas as pd"
   ]
  },
  {
   "cell_type": "code",
   "execution_count": 2,
   "id": "514da288",
   "metadata": {},
   "outputs": [
    {
     "data": {
      "text/html": [
       "<div>\n",
       "<style scoped>\n",
       "    .dataframe tbody tr th:only-of-type {\n",
       "        vertical-align: middle;\n",
       "    }\n",
       "\n",
       "    .dataframe tbody tr th {\n",
       "        vertical-align: top;\n",
       "    }\n",
       "\n",
       "    .dataframe thead th {\n",
       "        text-align: right;\n",
       "    }\n",
       "</style>\n",
       "<table border=\"1\" class=\"dataframe\">\n",
       "  <thead>\n",
       "    <tr style=\"text-align: right;\">\n",
       "      <th></th>\n",
       "      <th>Survived</th>\n",
       "      <th>Pclass</th>\n",
       "      <th>Name</th>\n",
       "      <th>Sex</th>\n",
       "      <th>Age</th>\n",
       "      <th>SibSp</th>\n",
       "      <th>Parch</th>\n",
       "      <th>Ticket</th>\n",
       "      <th>Fare</th>\n",
       "      <th>Cabin</th>\n",
       "      <th>Embarked</th>\n",
       "    </tr>\n",
       "    <tr>\n",
       "      <th>PassengerId</th>\n",
       "      <th></th>\n",
       "      <th></th>\n",
       "      <th></th>\n",
       "      <th></th>\n",
       "      <th></th>\n",
       "      <th></th>\n",
       "      <th></th>\n",
       "      <th></th>\n",
       "      <th></th>\n",
       "      <th></th>\n",
       "      <th></th>\n",
       "    </tr>\n",
       "  </thead>\n",
       "  <tbody>\n",
       "    <tr>\n",
       "      <th>1</th>\n",
       "      <td>0</td>\n",
       "      <td>3</td>\n",
       "      <td>Braund, Mr. Owen Harris</td>\n",
       "      <td>male</td>\n",
       "      <td>22.0</td>\n",
       "      <td>1</td>\n",
       "      <td>0</td>\n",
       "      <td>A/5 21171</td>\n",
       "      <td>7.2500</td>\n",
       "      <td>NaN</td>\n",
       "      <td>S</td>\n",
       "    </tr>\n",
       "    <tr>\n",
       "      <th>2</th>\n",
       "      <td>1</td>\n",
       "      <td>1</td>\n",
       "      <td>Cumings, Mrs. John Bradley (Florence Briggs Th...</td>\n",
       "      <td>female</td>\n",
       "      <td>38.0</td>\n",
       "      <td>1</td>\n",
       "      <td>0</td>\n",
       "      <td>PC 17599</td>\n",
       "      <td>71.2833</td>\n",
       "      <td>C85</td>\n",
       "      <td>C</td>\n",
       "    </tr>\n",
       "    <tr>\n",
       "      <th>3</th>\n",
       "      <td>1</td>\n",
       "      <td>3</td>\n",
       "      <td>Heikkinen, Miss. Laina</td>\n",
       "      <td>female</td>\n",
       "      <td>26.0</td>\n",
       "      <td>0</td>\n",
       "      <td>0</td>\n",
       "      <td>STON/O2. 3101282</td>\n",
       "      <td>7.9250</td>\n",
       "      <td>NaN</td>\n",
       "      <td>S</td>\n",
       "    </tr>\n",
       "    <tr>\n",
       "      <th>4</th>\n",
       "      <td>1</td>\n",
       "      <td>1</td>\n",
       "      <td>Futrelle, Mrs. Jacques Heath (Lily May Peel)</td>\n",
       "      <td>female</td>\n",
       "      <td>35.0</td>\n",
       "      <td>1</td>\n",
       "      <td>0</td>\n",
       "      <td>113803</td>\n",
       "      <td>53.1000</td>\n",
       "      <td>C123</td>\n",
       "      <td>S</td>\n",
       "    </tr>\n",
       "    <tr>\n",
       "      <th>5</th>\n",
       "      <td>0</td>\n",
       "      <td>3</td>\n",
       "      <td>Allen, Mr. William Henry</td>\n",
       "      <td>male</td>\n",
       "      <td>35.0</td>\n",
       "      <td>0</td>\n",
       "      <td>0</td>\n",
       "      <td>373450</td>\n",
       "      <td>8.0500</td>\n",
       "      <td>NaN</td>\n",
       "      <td>S</td>\n",
       "    </tr>\n",
       "    <tr>\n",
       "      <th>...</th>\n",
       "      <td>...</td>\n",
       "      <td>...</td>\n",
       "      <td>...</td>\n",
       "      <td>...</td>\n",
       "      <td>...</td>\n",
       "      <td>...</td>\n",
       "      <td>...</td>\n",
       "      <td>...</td>\n",
       "      <td>...</td>\n",
       "      <td>...</td>\n",
       "      <td>...</td>\n",
       "    </tr>\n",
       "    <tr>\n",
       "      <th>887</th>\n",
       "      <td>0</td>\n",
       "      <td>2</td>\n",
       "      <td>Montvila, Rev. Juozas</td>\n",
       "      <td>male</td>\n",
       "      <td>27.0</td>\n",
       "      <td>0</td>\n",
       "      <td>0</td>\n",
       "      <td>211536</td>\n",
       "      <td>13.0000</td>\n",
       "      <td>NaN</td>\n",
       "      <td>S</td>\n",
       "    </tr>\n",
       "    <tr>\n",
       "      <th>888</th>\n",
       "      <td>1</td>\n",
       "      <td>1</td>\n",
       "      <td>Graham, Miss. Margaret Edith</td>\n",
       "      <td>female</td>\n",
       "      <td>19.0</td>\n",
       "      <td>0</td>\n",
       "      <td>0</td>\n",
       "      <td>112053</td>\n",
       "      <td>30.0000</td>\n",
       "      <td>B42</td>\n",
       "      <td>S</td>\n",
       "    </tr>\n",
       "    <tr>\n",
       "      <th>889</th>\n",
       "      <td>0</td>\n",
       "      <td>3</td>\n",
       "      <td>Johnston, Miss. Catherine Helen \"Carrie\"</td>\n",
       "      <td>female</td>\n",
       "      <td>NaN</td>\n",
       "      <td>1</td>\n",
       "      <td>2</td>\n",
       "      <td>W./C. 6607</td>\n",
       "      <td>23.4500</td>\n",
       "      <td>NaN</td>\n",
       "      <td>S</td>\n",
       "    </tr>\n",
       "    <tr>\n",
       "      <th>890</th>\n",
       "      <td>1</td>\n",
       "      <td>1</td>\n",
       "      <td>Behr, Mr. Karl Howell</td>\n",
       "      <td>male</td>\n",
       "      <td>26.0</td>\n",
       "      <td>0</td>\n",
       "      <td>0</td>\n",
       "      <td>111369</td>\n",
       "      <td>30.0000</td>\n",
       "      <td>C148</td>\n",
       "      <td>C</td>\n",
       "    </tr>\n",
       "    <tr>\n",
       "      <th>891</th>\n",
       "      <td>0</td>\n",
       "      <td>3</td>\n",
       "      <td>Dooley, Mr. Patrick</td>\n",
       "      <td>male</td>\n",
       "      <td>32.0</td>\n",
       "      <td>0</td>\n",
       "      <td>0</td>\n",
       "      <td>370376</td>\n",
       "      <td>7.7500</td>\n",
       "      <td>NaN</td>\n",
       "      <td>Q</td>\n",
       "    </tr>\n",
       "  </tbody>\n",
       "</table>\n",
       "<p>891 rows × 11 columns</p>\n",
       "</div>"
      ],
      "text/plain": [
       "             Survived  Pclass  \\\n",
       "PassengerId                     \n",
       "1                   0       3   \n",
       "2                   1       1   \n",
       "3                   1       3   \n",
       "4                   1       1   \n",
       "5                   0       3   \n",
       "...               ...     ...   \n",
       "887                 0       2   \n",
       "888                 1       1   \n",
       "889                 0       3   \n",
       "890                 1       1   \n",
       "891                 0       3   \n",
       "\n",
       "                                                          Name     Sex   Age  \\\n",
       "PassengerId                                                                    \n",
       "1                                      Braund, Mr. Owen Harris    male  22.0   \n",
       "2            Cumings, Mrs. John Bradley (Florence Briggs Th...  female  38.0   \n",
       "3                                       Heikkinen, Miss. Laina  female  26.0   \n",
       "4                 Futrelle, Mrs. Jacques Heath (Lily May Peel)  female  35.0   \n",
       "5                                     Allen, Mr. William Henry    male  35.0   \n",
       "...                                                        ...     ...   ...   \n",
       "887                                      Montvila, Rev. Juozas    male  27.0   \n",
       "888                               Graham, Miss. Margaret Edith  female  19.0   \n",
       "889                   Johnston, Miss. Catherine Helen \"Carrie\"  female   NaN   \n",
       "890                                      Behr, Mr. Karl Howell    male  26.0   \n",
       "891                                        Dooley, Mr. Patrick    male  32.0   \n",
       "\n",
       "             SibSp  Parch            Ticket     Fare Cabin Embarked  \n",
       "PassengerId                                                          \n",
       "1                1      0         A/5 21171   7.2500   NaN        S  \n",
       "2                1      0          PC 17599  71.2833   C85        C  \n",
       "3                0      0  STON/O2. 3101282   7.9250   NaN        S  \n",
       "4                1      0            113803  53.1000  C123        S  \n",
       "5                0      0            373450   8.0500   NaN        S  \n",
       "...            ...    ...               ...      ...   ...      ...  \n",
       "887              0      0            211536  13.0000   NaN        S  \n",
       "888              0      0            112053  30.0000   B42        S  \n",
       "889              1      2        W./C. 6607  23.4500   NaN        S  \n",
       "890              0      0            111369  30.0000  C148        C  \n",
       "891              0      0            370376   7.7500   NaN        Q  \n",
       "\n",
       "[891 rows x 11 columns]"
      ]
     },
     "execution_count": 2,
     "metadata": {},
     "output_type": "execute_result"
    }
   ],
   "source": [
    "train = pd.read_csv('train.csv',index_col = 0,header = 0)\n",
    "\n",
    "train"
   ]
  },
  {
   "cell_type": "code",
   "execution_count": 3,
   "id": "487c50aa",
   "metadata": {},
   "outputs": [
    {
     "name": "stdout",
     "output_type": "stream",
     "text": [
      "<class 'pandas.core.frame.DataFrame'>\n",
      "Int64Index: 891 entries, 1 to 891\n",
      "Data columns (total 11 columns):\n",
      " #   Column    Non-Null Count  Dtype  \n",
      "---  ------    --------------  -----  \n",
      " 0   Survived  891 non-null    int64  \n",
      " 1   Pclass    891 non-null    int64  \n",
      " 2   Name      891 non-null    object \n",
      " 3   Sex       891 non-null    object \n",
      " 4   Age       714 non-null    float64\n",
      " 5   SibSp     891 non-null    int64  \n",
      " 6   Parch     891 non-null    int64  \n",
      " 7   Ticket    891 non-null    object \n",
      " 8   Fare      891 non-null    float64\n",
      " 9   Cabin     204 non-null    object \n",
      " 10  Embarked  889 non-null    object \n",
      "dtypes: float64(2), int64(4), object(5)\n",
      "memory usage: 83.5+ KB\n"
     ]
    }
   ],
   "source": [
    "train.info()"
   ]
  },
  {
   "cell_type": "code",
   "execution_count": 4,
   "id": "22b2df89",
   "metadata": {},
   "outputs": [
    {
     "data": {
      "text/html": [
       "<div>\n",
       "<style scoped>\n",
       "    .dataframe tbody tr th:only-of-type {\n",
       "        vertical-align: middle;\n",
       "    }\n",
       "\n",
       "    .dataframe tbody tr th {\n",
       "        vertical-align: top;\n",
       "    }\n",
       "\n",
       "    .dataframe thead th {\n",
       "        text-align: right;\n",
       "    }\n",
       "</style>\n",
       "<table border=\"1\" class=\"dataframe\">\n",
       "  <thead>\n",
       "    <tr style=\"text-align: right;\">\n",
       "      <th></th>\n",
       "      <th>Survived</th>\n",
       "      <th>Pclass</th>\n",
       "      <th>Sex</th>\n",
       "      <th>Age</th>\n",
       "      <th>SibSp</th>\n",
       "      <th>Parch</th>\n",
       "      <th>Fare</th>\n",
       "    </tr>\n",
       "    <tr>\n",
       "      <th>PassengerId</th>\n",
       "      <th></th>\n",
       "      <th></th>\n",
       "      <th></th>\n",
       "      <th></th>\n",
       "      <th></th>\n",
       "      <th></th>\n",
       "      <th></th>\n",
       "    </tr>\n",
       "  </thead>\n",
       "  <tbody>\n",
       "    <tr>\n",
       "      <th>1</th>\n",
       "      <td>0</td>\n",
       "      <td>3</td>\n",
       "      <td>male</td>\n",
       "      <td>22.0</td>\n",
       "      <td>1</td>\n",
       "      <td>0</td>\n",
       "      <td>7.2500</td>\n",
       "    </tr>\n",
       "    <tr>\n",
       "      <th>2</th>\n",
       "      <td>1</td>\n",
       "      <td>1</td>\n",
       "      <td>female</td>\n",
       "      <td>38.0</td>\n",
       "      <td>1</td>\n",
       "      <td>0</td>\n",
       "      <td>71.2833</td>\n",
       "    </tr>\n",
       "    <tr>\n",
       "      <th>3</th>\n",
       "      <td>1</td>\n",
       "      <td>3</td>\n",
       "      <td>female</td>\n",
       "      <td>26.0</td>\n",
       "      <td>0</td>\n",
       "      <td>0</td>\n",
       "      <td>7.9250</td>\n",
       "    </tr>\n",
       "    <tr>\n",
       "      <th>4</th>\n",
       "      <td>1</td>\n",
       "      <td>1</td>\n",
       "      <td>female</td>\n",
       "      <td>35.0</td>\n",
       "      <td>1</td>\n",
       "      <td>0</td>\n",
       "      <td>53.1000</td>\n",
       "    </tr>\n",
       "    <tr>\n",
       "      <th>5</th>\n",
       "      <td>0</td>\n",
       "      <td>3</td>\n",
       "      <td>male</td>\n",
       "      <td>35.0</td>\n",
       "      <td>0</td>\n",
       "      <td>0</td>\n",
       "      <td>8.0500</td>\n",
       "    </tr>\n",
       "    <tr>\n",
       "      <th>...</th>\n",
       "      <td>...</td>\n",
       "      <td>...</td>\n",
       "      <td>...</td>\n",
       "      <td>...</td>\n",
       "      <td>...</td>\n",
       "      <td>...</td>\n",
       "      <td>...</td>\n",
       "    </tr>\n",
       "    <tr>\n",
       "      <th>887</th>\n",
       "      <td>0</td>\n",
       "      <td>2</td>\n",
       "      <td>male</td>\n",
       "      <td>27.0</td>\n",
       "      <td>0</td>\n",
       "      <td>0</td>\n",
       "      <td>13.0000</td>\n",
       "    </tr>\n",
       "    <tr>\n",
       "      <th>888</th>\n",
       "      <td>1</td>\n",
       "      <td>1</td>\n",
       "      <td>female</td>\n",
       "      <td>19.0</td>\n",
       "      <td>0</td>\n",
       "      <td>0</td>\n",
       "      <td>30.0000</td>\n",
       "    </tr>\n",
       "    <tr>\n",
       "      <th>889</th>\n",
       "      <td>0</td>\n",
       "      <td>3</td>\n",
       "      <td>female</td>\n",
       "      <td>NaN</td>\n",
       "      <td>1</td>\n",
       "      <td>2</td>\n",
       "      <td>23.4500</td>\n",
       "    </tr>\n",
       "    <tr>\n",
       "      <th>890</th>\n",
       "      <td>1</td>\n",
       "      <td>1</td>\n",
       "      <td>male</td>\n",
       "      <td>26.0</td>\n",
       "      <td>0</td>\n",
       "      <td>0</td>\n",
       "      <td>30.0000</td>\n",
       "    </tr>\n",
       "    <tr>\n",
       "      <th>891</th>\n",
       "      <td>0</td>\n",
       "      <td>3</td>\n",
       "      <td>male</td>\n",
       "      <td>32.0</td>\n",
       "      <td>0</td>\n",
       "      <td>0</td>\n",
       "      <td>7.7500</td>\n",
       "    </tr>\n",
       "  </tbody>\n",
       "</table>\n",
       "<p>891 rows × 7 columns</p>\n",
       "</div>"
      ],
      "text/plain": [
       "             Survived  Pclass     Sex   Age  SibSp  Parch     Fare\n",
       "PassengerId                                                       \n",
       "1                   0       3    male  22.0      1      0   7.2500\n",
       "2                   1       1  female  38.0      1      0  71.2833\n",
       "3                   1       3  female  26.0      0      0   7.9250\n",
       "4                   1       1  female  35.0      1      0  53.1000\n",
       "5                   0       3    male  35.0      0      0   8.0500\n",
       "...               ...     ...     ...   ...    ...    ...      ...\n",
       "887                 0       2    male  27.0      0      0  13.0000\n",
       "888                 1       1  female  19.0      0      0  30.0000\n",
       "889                 0       3  female   NaN      1      2  23.4500\n",
       "890                 1       1    male  26.0      0      0  30.0000\n",
       "891                 0       3    male  32.0      0      0   7.7500\n",
       "\n",
       "[891 rows x 7 columns]"
      ]
     },
     "execution_count": 4,
     "metadata": {},
     "output_type": "execute_result"
    }
   ],
   "source": [
    "def data_pro(data):\n",
    "    # отбрасываю явно ненужные для модели значения и заменяю пропущеные данные.\n",
    "    data.drop(['Name','Ticket','Cabin','Embarked'], axis = 1, inplace = True)\n",
    "    data.Age.fillna(data.Age.mean())\n",
    "\n",
    "data_pro(train)\n",
    "train"
   ]
  },
  {
   "cell_type": "markdown",
   "id": "c938cf2e",
   "metadata": {},
   "source": [
    "# Анализ данных\n",
    "## Визуализация"
   ]
  },
  {
   "cell_type": "code",
   "execution_count": 5,
   "id": "cd46e9d1",
   "metadata": {},
   "outputs": [
    {
     "data": {
      "text/plain": [
       "<seaborn.axisgrid.FacetGrid at 0x1960c1bc850>"
      ]
     },
     "execution_count": 5,
     "metadata": {},
     "output_type": "execute_result"
    },
    {
     "data": {
      "image/png": "[encoded data removed]",
      "text/plain": [
       "<Figure size 360x360 with 1 Axes>"
      ]
     },
     "metadata": {},
     "output_type": "display_data"
    }
   ],
   "source": [
    "import matplotlib.pyplot as plt\n",
    "import seaborn as sns\n",
    "%matplotlib inline\n",
    "sns.set_style('darkgrid')\n",
    "\n",
    "sns.catplot(data=train, kind=\"bar\",x=\"Sex\", y=\"Survived\",ci = None)"
   ]
  },
  {
   "cell_type": "code",
   "execution_count": 6,
   "id": "723a8e04",
   "metadata": {},
   "outputs": [
    {
     "data": {
      "text/plain": [
       "<seaborn.axisgrid.FacetGrid at 0x1960de4db50>"
      ]
     },
     "execution_count": 6,
     "metadata": {},
     "output_type": "execute_result"
    },
    {
     "data": {
      "image/png": "[encoded data removed]",
      "text/plain": [
       "<Figure size 426.125x360 with 1 Axes>"
      ]
     },
     "metadata": {},
     "output_type": "display_data"
    }
   ],
   "source": [
    "sns.catplot(data=train, kind=\"bar\",x=\"Pclass\", y=\"Survived\", hue=\"Sex\",ci = None)"
   ]
  },
  {
   "cell_type": "code",
   "execution_count": 7,
   "id": "912fcc01",
   "metadata": {},
   "outputs": [
    {
     "data": {
      "text/plain": [
       "<seaborn.axisgrid.FacetGrid at 0x1960deaeeb0>"
      ]
     },
     "execution_count": 7,
     "metadata": {},
     "output_type": "execute_result"
    },
    {
     "data": {
      "image/png": "[encoded data removed]",
      "text/plain": [
       "<Figure size 426.125x360 with 1 Axes>"
      ]
     },
     "metadata": {},
     "output_type": "display_data"
    }
   ],
   "source": [
    "sns.catplot(data=train, kind='bar',x='Parch',y='Survived',hue='Sex',ci = None)"
   ]
  },
  {
   "cell_type": "code",
   "execution_count": 8,
   "id": "bcd31929",
   "metadata": {},
   "outputs": [
    {
     "data": {
      "text/plain": [
       "<seaborn.axisgrid.FacetGrid at 0x1960efb5760>"
      ]
     },
     "execution_count": 8,
     "metadata": {},
     "output_type": "execute_result"
    },
    {
     "data": {
      "image/png": "[encoded data removed]",
      "text/plain": [
       "<Figure size 426.125x360 with 1 Axes>"
      ]
     },
     "metadata": {},
     "output_type": "display_data"
    }
   ],
   "source": [
    "sns.catplot(data=train,kind='bar',x='SibSp',y='Survived',hue='Sex',ci = None)"
   ]
  },
  {
   "cell_type": "code",
   "execution_count": 9,
   "id": "1f9df523",
   "metadata": {},
   "outputs": [
    {
     "data": {
      "text/plain": [
       "<seaborn.axisgrid.FacetGrid at 0x1960f0874c0>"
      ]
     },
     "execution_count": 9,
     "metadata": {},
     "output_type": "execute_result"
    },
    {
     "data": {
      "image/png": "[encoded data removed]",
      "text/plain": [
       "<Figure size 407x360 with 1 Axes>"
      ]
     },
     "metadata": {},
     "output_type": "display_data"
    }
   ],
   "source": [
    "sns.catplot(data=train,kind='strip',x='Pclass',y='Fare',hue='Survived',palette = ['red','green'], alpha = 0.3)"
   ]
  },
  {
   "cell_type": "code",
   "execution_count": 10,
   "id": "795975f3",
   "metadata": {},
   "outputs": [
    {
     "data": {
      "text/plain": [
       "<AxesSubplot:xlabel='Age', ylabel='Fare'>"
      ]
     },
     "execution_count": 10,
     "metadata": {},
     "output_type": "execute_result"
    },
    {
     "data": {
      "image/png": "[encoded data removed]",
      "text/plain": [
       "<Figure size 432x288 with 1 Axes>"
      ]
     },
     "metadata": {},
     "output_type": "display_data"
    }
   ],
   "source": [
    "sns.scatterplot(data = train,x = 'Age', y = 'Fare', hue = 'Survived', palette = ['red', 'green'], alpha = 0.3)"
   ]
  },
  {
   "cell_type": "code",
   "execution_count": 23,
   "id": "9750f228",
   "metadata": {
    "scrolled": true
   },
   "outputs": [
    {
     "data": {
      "text/plain": [
       "<AxesSubplot:xlabel='Age', ylabel='Fare'>"
      ]
     },
     "execution_count": 23,
     "metadata": {},
     "output_type": "execute_result"
    },
    {
     "data": {
      "image/png": "[encoded data removed]",
      "text/plain": [
       "<Figure size 432x288 with 1 Axes>"
      ]
     },
     "metadata": {},
     "output_type": "display_data"
    }
   ],
   "source": [
    "sns.scatterplot(data = train[train.Age <=20],x = 'Age', y = 'Fare', hue = 'Survived', palette = ['red', 'green'], alpha = 0.7)"
   ]
  },
  {
   "cell_type": "markdown",
   "id": "f807cd8c",
   "metadata": {},
   "source": [
    "## Выводы:\n",
    "Женщины явно имеют большую выживаемость нежели мужчины, так же хорошими  критериями являются плата за билет и его класс.  \n",
    "Среди детей много выживших, но после 15 лет возраст не оказывает большого влияния  \n",
    "Большое количество спутников на борту приводит к меньшей выживаемости, но мужчины с 1-2 родственниками/супругой имеют больше шансов  \n",
    "# Выбор модели\n",
    "## Подготовка данных к обучению"
   ]
  },
  {
   "cell_type": "code",
   "execution_count": 12,
   "id": "99b6e158",
   "metadata": {},
   "outputs": [],
   "source": [
    " def data_fe(data):\n",
    "    data_ohe = pd.get_dummies(data,columns = ['Pclass','Sex','Parch','SibSp'])\n",
    "    data_ohe = data_ohe.drop(['Sex_male','Age'],axis = 1)\n",
    "    data_ohe = data_ohe.assign(Child = 1)    \n",
    "    data_ohe.Child.where(data.Age <= 15,other = 0,inplace = True)\n",
    "    data_ohe.Child.mask(data.Age <= 15,other = 1,inplace = True)\n",
    "    return data_ohe\n",
    "\n",
    "\n",
    "train_fe = data_fe(train)\n",
    "X = train_fe.drop('Survived',axis = 1).values\n",
    "y = train_fe['Survived'].values"
   ]
  },
  {
   "cell_type": "markdown",
   "id": "a66a9823",
   "metadata": {},
   "source": [
    "## Кросс валидация"
   ]
  },
  {
   "cell_type": "code",
   "execution_count": 13,
   "id": "414df95e",
   "metadata": {},
   "outputs": [],
   "source": [
    "from sklearn.model_selection import cross_validate"
   ]
  },
  {
   "cell_type": "markdown",
   "id": "680db8f2",
   "metadata": {},
   "source": [
    "### Логистическая регрессия"
   ]
  },
  {
   "cell_type": "code",
   "execution_count": 14,
   "id": "d41c0698",
   "metadata": {},
   "outputs": [
    {
     "data": {
      "text/plain": [
       "0.7990898248697508"
      ]
     },
     "execution_count": 14,
     "metadata": {},
     "output_type": "execute_result"
    }
   ],
   "source": [
    "from sklearn.linear_model import LogisticRegression\n",
    "logreg = LogisticRegression(solver = 'newton-cg')\n",
    "logreg_score = cross_validate(logreg,X,y)['test_score']\n",
    "\n",
    "logreg_score.mean()"
   ]
  },
  {
   "cell_type": "markdown",
   "id": "4e080f26",
   "metadata": {},
   "source": [
    "### Опорновекторная машина"
   ]
  },
  {
   "cell_type": "code",
   "execution_count": 15,
   "id": "31ff9b9e",
   "metadata": {},
   "outputs": [
    {
     "data": {
      "text/plain": [
       "0.6678865105768628"
      ]
     },
     "execution_count": 15,
     "metadata": {},
     "output_type": "execute_result"
    }
   ],
   "source": [
    "from sklearn.svm import SVC\n",
    "svc = SVC()\n",
    "svc_score = cross_validate(svc,X,y)['test_score']\n",
    "\n",
    "svc_score.mean()"
   ]
  },
  {
   "cell_type": "markdown",
   "id": "7973ae05",
   "metadata": {},
   "source": [
    "### К ближайших соседей"
   ]
  },
  {
   "cell_type": "code",
   "execution_count": 16,
   "id": "3686d9e8",
   "metadata": {},
   "outputs": [
    {
     "data": {
      "text/plain": [
       "0.7654886698888959"
      ]
     },
     "execution_count": 16,
     "metadata": {},
     "output_type": "execute_result"
    }
   ],
   "source": [
    "from sklearn.neighbors import KNeighborsClassifier\n",
    "knc = KNeighborsClassifier()\n",
    "knc_score = cross_validate(knc,X,y)['test_score']\n",
    "\n",
    "knc_score.mean()"
   ]
  },
  {
   "cell_type": "markdown",
   "id": "7d8442c7",
   "metadata": {},
   "source": [
    "### Случайные леса"
   ]
  },
  {
   "cell_type": "code",
   "execution_count": 17,
   "id": "2adae821",
   "metadata": {},
   "outputs": [
    {
     "data": {
      "text/plain": [
       "0.8069584736251403"
      ]
     },
     "execution_count": 17,
     "metadata": {},
     "output_type": "execute_result"
    }
   ],
   "source": [
    "from sklearn.ensemble import RandomForestClassifier \n",
    "rfc = RandomForestClassifier()\n",
    "rfc_score = cross_validate(rfc,X,y,cv=3)['test_score']\n",
    "\n",
    "rfc_score.mean()"
   ]
  },
  {
   "cell_type": "markdown",
   "id": "22b30e72",
   "metadata": {},
   "source": [
    "## Выводы:  \n",
    "Случайные леса и логистическая регрессия показывают наилучший результат, обучу их на всем наборе.\n",
    "# Построение итоговых моделей\n",
    "## Импорт тестовых данных"
   ]
  },
  {
   "cell_type": "code",
   "execution_count": 18,
   "id": "de380d04",
   "metadata": {},
   "outputs": [
    {
     "name": "stdout",
     "output_type": "stream",
     "text": [
      "<class 'pandas.core.frame.DataFrame'>\n",
      "Int64Index: 418 entries, 892 to 1309\n",
      "Data columns (total 6 columns):\n",
      " #   Column  Non-Null Count  Dtype  \n",
      "---  ------  --------------  -----  \n",
      " 0   Pclass  418 non-null    int64  \n",
      " 1   Sex     418 non-null    object \n",
      " 2   Age     332 non-null    float64\n",
      " 3   SibSp   418 non-null    int64  \n",
      " 4   Parch   418 non-null    int64  \n",
      " 5   Fare    417 non-null    float64\n",
      "dtypes: float64(2), int64(3), object(1)\n",
      "memory usage: 22.9+ KB\n"
     ]
    }
   ],
   "source": [
    "test = pd.read_csv('test.csv',index_col = 0,header = 0)\n",
    "data_pro(test)\n",
    "\n",
    "test.info() "
   ]
  },
  {
   "cell_type": "code",
   "execution_count": 19,
   "id": "3ff30592",
   "metadata": {
    "scrolled": false
   },
   "outputs": [
    {
     "name": "stdout",
     "output_type": "stream",
     "text": [
      "<class 'pandas.core.frame.DataFrame'>\n",
      "Int64Index: 418 entries, 892 to 1309\n",
      "Data columns (total 21 columns):\n",
      " #   Column      Non-Null Count  Dtype  \n",
      "---  ------      --------------  -----  \n",
      " 0   Fare        418 non-null    float64\n",
      " 1   Pclass_1    418 non-null    uint8  \n",
      " 2   Pclass_2    418 non-null    uint8  \n",
      " 3   Pclass_3    418 non-null    uint8  \n",
      " 4   Sex_female  418 non-null    uint8  \n",
      " 5   Parch_0     418 non-null    uint8  \n",
      " 6   Parch_1     418 non-null    uint8  \n",
      " 7   Parch_2     418 non-null    uint8  \n",
      " 8   Parch_3     418 non-null    uint8  \n",
      " 9   Parch_4     418 non-null    uint8  \n",
      " 10  Parch_5     418 non-null    uint8  \n",
      " 11  Parch_6     418 non-null    uint8  \n",
      " 12  Parch_9     418 non-null    uint8  \n",
      " 13  SibSp_0     418 non-null    uint8  \n",
      " 14  SibSp_1     418 non-null    uint8  \n",
      " 15  SibSp_2     418 non-null    uint8  \n",
      " 16  SibSp_3     418 non-null    uint8  \n",
      " 17  SibSp_4     418 non-null    uint8  \n",
      " 18  SibSp_5     418 non-null    uint8  \n",
      " 19  SibSp_8     418 non-null    uint8  \n",
      " 20  Child       418 non-null    int64  \n",
      "dtypes: float64(1), int64(1), uint8(19)\n",
      "memory usage: 17.6 KB\n"
     ]
    }
   ],
   "source": [
    "test.Fare.fillna(test.Fare.mean(), inplace = True)\n",
    "test_fe = data_fe(test)\n",
    "test_fe.info()"
   ]
  },
  {
   "cell_type": "code",
   "execution_count": 20,
   "id": "4cd81254",
   "metadata": {},
   "outputs": [],
   "source": [
    "test_fe.Parch_6 += test_fe.Parch_9\n",
    "test_fe.drop('Parch_9',axis = 1,inplace = True)"
   ]
  },
  {
   "cell_type": "markdown",
   "id": "43ccfe26",
   "metadata": {},
   "source": [
    "## Создание файлов\n",
    "### Случайный лес"
   ]
  },
  {
   "cell_type": "code",
   "execution_count": 21,
   "id": "fe1a90d8",
   "metadata": {},
   "outputs": [],
   "source": [
    "rfc.fit(X,y)\n",
    "rfc_pred = pd.Series(rfc.predict(test_fe),index = test.index, name = 'Survived')\n",
    "rfc_pred.to_csv('rfc_pred.csv')"
   ]
  },
  {
   "cell_type": "markdown",
   "id": "87aba6c9",
   "metadata": {},
   "source": [
    "### Логистическая регрессия "
   ]
  },
  {
   "cell_type": "code",
   "execution_count": 22,
   "id": "5c9d9a61",
   "metadata": {},
   "outputs": [],
   "source": [
    "logreg.fit(X,y)\n",
    "logreg_pred = pd.Series(logreg.predict(test_fe),index = test.index, name = 'Survived')\n",
    "logreg_pred.to_csv('logreg_pred.csv')"
   ]
  },
  {
   "cell_type": "markdown",
   "id": "3c359673",
   "metadata": {},
   "source": [
    "# Итог  \n",
    "\n",
    "Точность логистической регрессии - 0.77272  \n",
    "Точность случайного леса - 0.75837  \n"
   ]
  }
 ],
 "metadata": {
  "kernelspec": {
   "display_name": "Python 3",
   "language": "python",
   "name": "python3"
  },
  "language_info": {
   "codemirror_mode": {
    "name": "ipython",
    "version": 3
   },
   "file_extension": ".py",
   "mimetype": "text/x-python",
   "name": "python",
   "nbconvert_exporter": "python",
   "pygments_lexer": "ipython3",
   "version": "3.8.8"
  }
 },
 "nbformat": 4,
 "nbformat_minor": 5
}
